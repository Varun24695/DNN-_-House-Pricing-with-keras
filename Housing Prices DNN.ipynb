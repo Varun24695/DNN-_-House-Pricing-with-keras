{
 "cells": [
  {
   "cell_type": "markdown",
   "metadata": {
    "colab_type": "text",
    "id": "8Yw1EhxPWWqi"
   },
   "source": [
    "**First things first, import the necessary dependencies**"
   ]
  },
  {
   "cell_type": "code",
   "execution_count": 1,
   "metadata": {
    "colab": {
     "base_uri": "https://localhost:8080/",
     "height": 35
    },
    "colab_type": "code",
    "executionInfo": {
     "elapsed": 1996,
     "status": "ok",
     "timestamp": 1566847434208,
     "user": {
      "displayName": "Adam Eubanks",
      "photoUrl": "https://lh3.googleusercontent.com/a-/AAuE7mDjwE097euDwbWe6DLsA9jrqnIHFFDD2-2g5QsSdA=s64",
      "userId": "14853192264485050012"
     },
     "user_tz": 240
    },
    "id": "zIuSLCZqWU-5",
    "outputId": "89fcf15f-572d-4bb5-96f4-9a076c6ba97f"
   },
   "outputs": [],
   "source": [
    "import tensorflow.keras\n",
    "import numpy as np\n",
    "import pandas as pd\n",
    "from tensorflow.keras.callbacks import EarlyStopping"
   ]
  },
  {
   "cell_type": "markdown",
   "metadata": {
    "colab_type": "text",
    "id": "-uuOjI-VWiRd"
   },
   "source": [
    "**Next, import the data**"
   ]
  },
  {
   "cell_type": "code",
   "execution_count": 2,
   "metadata": {
    "colab": {
     "base_uri": "https://localhost:8080/",
     "height": 314
    },
    "colab_type": "code",
    "executionInfo": {
     "elapsed": 21330,
     "status": "ok",
     "timestamp": 1566847458415,
     "user": {
      "displayName": "Adam Eubanks",
      "photoUrl": "https://lh3.googleusercontent.com/a-/AAuE7mDjwE097euDwbWe6DLsA9jrqnIHFFDD2-2g5QsSdA=s64",
      "userId": "14853192264485050012"
     },
     "user_tz": 240
    },
    "id": "5yg7lddCy31j",
    "outputId": "5d1ca6ac-a37a-41ed-8d71-dbfa7921ef25"
   },
   "outputs": [
    {
     "data": {
      "text/html": [
       "<div>\n",
       "<style scoped>\n",
       "    .dataframe tbody tr th:only-of-type {\n",
       "        vertical-align: middle;\n",
       "    }\n",
       "\n",
       "    .dataframe tbody tr th {\n",
       "        vertical-align: top;\n",
       "    }\n",
       "\n",
       "    .dataframe thead th {\n",
       "        text-align: right;\n",
       "    }\n",
       "</style>\n",
       "<table border=\"1\" class=\"dataframe\">\n",
       "  <thead>\n",
       "    <tr style=\"text-align: right;\">\n",
       "      <th></th>\n",
       "      <th>YearBuilt</th>\n",
       "      <th>2ndFlrSF</th>\n",
       "      <th>GrLivArea</th>\n",
       "      <th>FullBath</th>\n",
       "      <th>HalfBath</th>\n",
       "      <th>BedroomAbvGr</th>\n",
       "      <th>TotRmsAbvGrd</th>\n",
       "      <th>YrSold</th>\n",
       "      <th>SalePrice</th>\n",
       "    </tr>\n",
       "  </thead>\n",
       "  <tbody>\n",
       "    <tr>\n",
       "      <th>0</th>\n",
       "      <td>2003</td>\n",
       "      <td>854</td>\n",
       "      <td>1710</td>\n",
       "      <td>2</td>\n",
       "      <td>1</td>\n",
       "      <td>3</td>\n",
       "      <td>8</td>\n",
       "      <td>2008</td>\n",
       "      <td>208500</td>\n",
       "    </tr>\n",
       "    <tr>\n",
       "      <th>1</th>\n",
       "      <td>1976</td>\n",
       "      <td>0</td>\n",
       "      <td>1262</td>\n",
       "      <td>2</td>\n",
       "      <td>0</td>\n",
       "      <td>3</td>\n",
       "      <td>6</td>\n",
       "      <td>2007</td>\n",
       "      <td>181500</td>\n",
       "    </tr>\n",
       "    <tr>\n",
       "      <th>2</th>\n",
       "      <td>2001</td>\n",
       "      <td>866</td>\n",
       "      <td>1786</td>\n",
       "      <td>2</td>\n",
       "      <td>1</td>\n",
       "      <td>3</td>\n",
       "      <td>6</td>\n",
       "      <td>2008</td>\n",
       "      <td>223500</td>\n",
       "    </tr>\n",
       "    <tr>\n",
       "      <th>3</th>\n",
       "      <td>1915</td>\n",
       "      <td>756</td>\n",
       "      <td>1717</td>\n",
       "      <td>1</td>\n",
       "      <td>0</td>\n",
       "      <td>3</td>\n",
       "      <td>7</td>\n",
       "      <td>2006</td>\n",
       "      <td>140000</td>\n",
       "    </tr>\n",
       "    <tr>\n",
       "      <th>4</th>\n",
       "      <td>2000</td>\n",
       "      <td>1053</td>\n",
       "      <td>2198</td>\n",
       "      <td>2</td>\n",
       "      <td>1</td>\n",
       "      <td>4</td>\n",
       "      <td>9</td>\n",
       "      <td>2008</td>\n",
       "      <td>250000</td>\n",
       "    </tr>\n",
       "  </tbody>\n",
       "</table>\n",
       "</div>"
      ],
      "text/plain": [
       "   YearBuilt  2ndFlrSF  GrLivArea  FullBath  HalfBath  BedroomAbvGr  \\\n",
       "0       2003       854       1710         2         1             3   \n",
       "1       1976         0       1262         2         0             3   \n",
       "2       2001       866       1786         2         1             3   \n",
       "3       1915       756       1717         1         0             3   \n",
       "4       2000      1053       2198         2         1             4   \n",
       "\n",
       "   TotRmsAbvGrd  YrSold  SalePrice  \n",
       "0             8    2008     208500  \n",
       "1             6    2007     181500  \n",
       "2             6    2008     223500  \n",
       "3             7    2006     140000  \n",
       "4             9    2008     250000  "
      ]
     },
     "execution_count": 2,
     "metadata": {},
     "output_type": "execute_result"
    }
   ],
   "source": [
    "df=pd.read_csv(r\"D:\\Dnn - House Pricing(keras)\\HousingPrices.csv\")\n",
    "df.head()"
   ]
  },
  {
   "cell_type": "markdown",
   "metadata": {
    "colab_type": "text",
    "id": "TbF22MfYU3TC"
   },
   "source": [
    "**Now we set our x value to every attribute except for the sale price, and our y value to the sale price, since that will be what we are predicting**"
   ]
  },
  {
   "cell_type": "code",
   "execution_count": 3,
   "metadata": {
    "colab": {},
    "colab_type": "code",
    "id": "IhP7c3LKzFgS"
   },
   "outputs": [],
   "source": [
    "X = df.drop(columns=['SalePrice'])\n",
    "Y = df[['SalePrice']]"
   ]
  },
  {
   "cell_type": "markdown",
   "metadata": {
    "colab_type": "text",
    "id": "PcAtTTwPVE_m"
   },
   "source": [
    "**Let's build the model**"
   ]
  },
  {
   "cell_type": "code",
   "execution_count": 6,
   "metadata": {
    "colab": {
     "base_uri": "https://localhost:8080/",
     "height": 199
    },
    "colab_type": "code",
    "executionInfo": {
     "elapsed": 568,
     "status": "ok",
     "timestamp": 1566847499692,
     "user": {
      "displayName": "Adam Eubanks",
      "photoUrl": "https://lh3.googleusercontent.com/a-/AAuE7mDjwE097euDwbWe6DLsA9jrqnIHFFDD2-2g5QsSdA=s64",
      "userId": "14853192264485050012"
     },
     "user_tz": 240
    },
    "id": "TYc5ilS11mzU",
    "outputId": "f10fd490-ffba-4092-9fd1-c2eab8c8d3d7"
   },
   "outputs": [],
   "source": [
    "model = tensorflow.keras.models.Sequential()\n",
    "\n",
    "model.add(tensorflow.keras.layers.Dense(8, activation='relu', input_shape=(8,)))\n",
    "model.add(tensorflow.keras.layers.Dense(8, activation='relu'))\n",
    "model.add(tensorflow.keras.layers.Dense(1))\n",
    "\n",
    "model.compile(optimizer='adam', loss='mean_squared_error')"
   ]
  },
  {
   "cell_type": "markdown",
   "metadata": {
    "colab_type": "text",
    "id": "zfqX5-xFVJmW"
   },
   "source": [
    "**When we fit the model here, we are going to do something different. Keras has a built in feature called EarlyStopping that will stop the model when no more progress is being made. This saves GPU power and helps prevent our model from overfitting.**"
   ]
  },
  {
   "cell_type": "code",
   "execution_count": 7,
   "metadata": {
    "colab": {
     "base_uri": "https://localhost:8080/",
     "height": 1000
    },
    "colab_type": "code",
    "executionInfo": {
     "elapsed": 3001,
     "status": "ok",
     "timestamp": 1566847516255,
     "user": {
      "displayName": "Adam Eubanks",
      "photoUrl": "https://lh3.googleusercontent.com/a-/AAuE7mDjwE097euDwbWe6DLsA9jrqnIHFFDD2-2g5QsSdA=s64",
      "userId": "14853192264485050012"
     },
     "user_tz": 240
    },
    "id": "eI3f8aUS2FJr",
    "outputId": "8969280f-cda4-47a1-b7bf-0d5bd86c9825"
   },
   "outputs": [
    {
     "name": "stdout",
     "output_type": "stream",
     "text": [
      "Epoch 1/30\n",
      " 1/46 [..............................] - ETA: 0s - loss: 36480663552.0000WARNING:tensorflow:Callbacks method `on_train_batch_end` is slow compared to the batch time (batch time: 0.0000s vs `on_train_batch_end` time: 0.0010s). Check your callbacks.\n",
      "WARNING:tensorflow:Early stopping conditioned on metric `val_loss` which is not available. Available metrics are: loss\n",
      "46/46 [==============================] - 0s 880us/step - loss: 38806790144.0000\n",
      "Epoch 2/30\n",
      " 1/46 [..............................] - ETA: 0s - loss: 42530152448.0000WARNING:tensorflow:Early stopping conditioned on metric `val_loss` which is not available. Available metrics are: loss\n",
      "46/46 [==============================] - 0s 694us/step - loss: 38515900416.0000\n",
      "Epoch 3/30\n",
      " 1/46 [..............................] - ETA: 0s - loss: 46131896320.0000WARNING:tensorflow:Early stopping conditioned on metric `val_loss` which is not available. Available metrics are: loss\n",
      "46/46 [==============================] - 0s 745us/step - loss: 38032384000.0000\n",
      "Epoch 4/30\n",
      " 1/46 [..............................] - ETA: 0s - loss: 35226443776.0000WARNING:tensorflow:Early stopping conditioned on metric `val_loss` which is not available. Available metrics are: loss\n",
      "46/46 [==============================] - 0s 792us/step - loss: 37331419136.0000\n",
      "Epoch 5/30\n",
      " 1/46 [..............................] - ETA: 0s - loss: 34170716160.0000WARNING:tensorflow:Early stopping conditioned on metric `val_loss` which is not available. Available metrics are: loss\n",
      "46/46 [==============================] - 0s 911us/step - loss: 36327723008.0000\n",
      "Epoch 6/30\n",
      " 1/46 [..............................] - ETA: 0s - loss: 40007704576.0000WARNING:tensorflow:Early stopping conditioned on metric `val_loss` which is not available. Available metrics are: loss\n",
      "46/46 [==============================] - 0s 1ms/step - loss: 34956972032.0000\n",
      "Epoch 7/30\n",
      " 1/46 [..............................] - ETA: 0s - loss: 31100391424.0000WARNING:tensorflow:Early stopping conditioned on metric `val_loss` which is not available. Available metrics are: loss\n",
      "46/46 [==============================] - 0s 911us/step - loss: 33157625856.0000\n",
      "Epoch 8/30\n",
      " 1/46 [..............................] - ETA: 0s - loss: 49085870080.0000WARNING:tensorflow:Early stopping conditioned on metric `val_loss` which is not available. Available metrics are: loss\n",
      "46/46 [==============================] - 0s 802us/step - loss: 30922584064.0000\n",
      "Epoch 9/30\n",
      " 1/46 [..............................] - ETA: 0s - loss: 27980300288.0000WARNING:tensorflow:Early stopping conditioned on metric `val_loss` which is not available. Available metrics are: loss\n",
      "46/46 [==============================] - 0s 694us/step - loss: 28269914112.0000\n",
      "Epoch 10/30\n",
      " 1/46 [..............................] - ETA: 0s - loss: 31311048704.0000WARNING:tensorflow:Early stopping conditioned on metric `val_loss` which is not available. Available metrics are: loss\n",
      "46/46 [==============================] - 0s 802us/step - loss: 25259309056.0000\n",
      "Epoch 11/30\n",
      " 1/46 [..............................] - ETA: 0s - loss: 21335728128.0000WARNING:tensorflow:Early stopping conditioned on metric `val_loss` which is not available. Available metrics are: loss\n",
      "46/46 [==============================] - 0s 650us/step - loss: 21727545344.0000\n",
      "Epoch 12/30\n",
      " 1/46 [..............................] - ETA: 0s - loss: 16974987264.0000WARNING:tensorflow:Early stopping conditioned on metric `val_loss` which is not available. Available metrics are: loss\n",
      "46/46 [==============================] - 0s 759us/step - loss: 17756962816.0000\n",
      "Epoch 13/30\n",
      " 1/46 [..............................] - ETA: 0s - loss: 10451025920.0000WARNING:tensorflow:Early stopping conditioned on metric `val_loss` which is not available. Available metrics are: loss\n",
      "46/46 [==============================] - 0s 715us/step - loss: 13928787968.0000\n",
      "Epoch 14/30\n",
      " 1/46 [..............................] - ETA: 0s - loss: 12381038592.0000WARNING:tensorflow:Early stopping conditioned on metric `val_loss` which is not available. Available metrics are: loss\n",
      "46/46 [==============================] - 0s 585us/step - loss: 10591507456.0000\n",
      "Epoch 15/30\n",
      " 1/46 [..............................] - ETA: 0s - loss: 13197346816.0000WARNING:tensorflow:Early stopping conditioned on metric `val_loss` which is not available. Available metrics are: loss\n",
      "46/46 [==============================] - 0s 585us/step - loss: 8060579840.0000\n",
      "Epoch 16/30\n",
      " 1/46 [..............................] - ETA: 0s - loss: 6371465728.0000WARNING:tensorflow:Early stopping conditioned on metric `val_loss` which is not available. Available metrics are: loss\n",
      "46/46 [==============================] - 0s 620us/step - loss: 6352988160.0000\n",
      "Epoch 17/30\n",
      " 1/46 [..............................] - ETA: 0s - loss: 4788412416.0000WARNING:tensorflow:Early stopping conditioned on metric `val_loss` which is not available. Available metrics are: loss\n",
      "46/46 [==============================] - 0s 673us/step - loss: 5369221120.0000\n",
      "Epoch 18/30\n",
      " 1/46 [..............................] - ETA: 0s - loss: 3924226048.0000WARNING:tensorflow:Early stopping conditioned on metric `val_loss` which is not available. Available metrics are: loss\n",
      "46/46 [==============================] - 0s 629us/step - loss: 4862053888.0000\n",
      "Epoch 19/30\n",
      " 1/46 [..............................] - ETA: 0s - loss: 3449761280.0000WARNING:tensorflow:Early stopping conditioned on metric `val_loss` which is not available. Available metrics are: loss\n",
      "46/46 [==============================] - 0s 650us/step - loss: 4639461376.0000\n",
      "Epoch 20/30\n",
      " 1/46 [..............................] - ETA: 0s - loss: 4177181952.0000WARNING:tensorflow:Early stopping conditioned on metric `val_loss` which is not available. Available metrics are: loss\n",
      "46/46 [==============================] - 0s 715us/step - loss: 4551030272.0000\n",
      "Epoch 21/30\n",
      " 1/46 [..............................] - ETA: 0s - loss: 9042397184.0000WARNING:tensorflow:Early stopping conditioned on metric `val_loss` which is not available. Available metrics are: loss\n",
      "46/46 [==============================] - 0s 671us/step - loss: 4517517824.0000\n",
      "Epoch 22/30\n",
      " 1/46 [..............................] - ETA: 0s - loss: 3801795584.0000WARNING:tensorflow:Early stopping conditioned on metric `val_loss` which is not available. Available metrics are: loss\n",
      "46/46 [==============================] - 0s 629us/step - loss: 4501162496.0000\n",
      "Epoch 23/30\n",
      " 1/46 [..............................] - ETA: 0s - loss: 2276122368.0000WARNING:tensorflow:Early stopping conditioned on metric `val_loss` which is not available. Available metrics are: loss\n",
      "46/46 [==============================] - 0s 629us/step - loss: 4490586112.0000\n",
      "Epoch 24/30\n",
      " 1/46 [..............................] - ETA: 0s - loss: 4311785984.0000WARNING:tensorflow:Early stopping conditioned on metric `val_loss` which is not available. Available metrics are: loss\n",
      "46/46 [==============================] - 0s 673us/step - loss: 4481282560.0000\n",
      "Epoch 25/30\n",
      " 1/46 [..............................] - ETA: 0s - loss: 9615098880.0000WARNING:tensorflow:Early stopping conditioned on metric `val_loss` which is not available. Available metrics are: loss\n",
      "46/46 [==============================] - 0s 694us/step - loss: 4473687552.0000\n",
      "Epoch 26/30\n",
      " 1/46 [..............................] - ETA: 0s - loss: 3165922304.0000WARNING:tensorflow:Early stopping conditioned on metric `val_loss` which is not available. Available metrics are: loss\n",
      "46/46 [==============================] - 0s 651us/step - loss: 4465228288.0000\n",
      "Epoch 27/30\n",
      " 1/46 [..............................] - ETA: 0s - loss: 3253276928.0000WARNING:tensorflow:Early stopping conditioned on metric `val_loss` which is not available. Available metrics are: loss\n",
      "46/46 [==============================] - 0s 650us/step - loss: 4458038784.0000\n",
      "Epoch 28/30\n",
      " 1/46 [..............................] - ETA: 0s - loss: 3391459328.0000WARNING:tensorflow:Early stopping conditioned on metric `val_loss` which is not available. Available metrics are: loss\n",
      "46/46 [==============================] - 0s 607us/step - loss: 4446552064.0000\n",
      "Epoch 29/30\n",
      " 1/46 [..............................] - ETA: 0s - loss: 6664586240.0000WARNING:tensorflow:Early stopping conditioned on metric `val_loss` which is not available. Available metrics are: loss\n",
      "46/46 [==============================] - 0s 716us/step - loss: 4438997504.0000\n",
      "Epoch 30/30\n",
      " 1/46 [..............................] - ETA: 0s - loss: 3116524544.0000WARNING:tensorflow:Early stopping conditioned on metric `val_loss` which is not available. Available metrics are: loss\n",
      "46/46 [==============================] - 0s 651us/step - loss: 4429060608.0000\n"
     ]
    },
    {
     "data": {
      "text/plain": [
       "<tensorflow.python.keras.callbacks.History at 0x23c73da77f0>"
      ]
     },
     "execution_count": 7,
     "metadata": {},
     "output_type": "execute_result"
    }
   ],
   "source": [
    "model.fit(X, Y, epochs=30, callbacks=[tensorflow.keras.callbacks.EarlyStopping(patience=3)])"
   ]
  },
  {
   "cell_type": "markdown",
   "metadata": {
    "colab_type": "text",
    "id": "OZZ0M0SsViB7"
   },
   "source": [
    "**We now want to make a prediction based on our model. To do this, we create an np.array with the different attributes of a house. The correct order is:**\n",
    "1. YearBuilt\n",
    "2. 2ndFlrSF\n",
    "3. GrLivArea\n",
    "4. FullBath\t\n",
    "5. HalfBath\t\n",
    "6. BedroomAbvGr\t\n",
    "7. TotRmsAbvGrd\t\n",
    "8. YrSold\n",
    "**You can see the sample data we fed the network was the exact same as the first value in our dataset. The true value of this house was $208500, so you can see we were just a few thousand off. Note that usually to test the model most accurately, we must use data the model has not trained on.**"
   ]
  },
  {
   "cell_type": "code",
   "execution_count": 9,
   "metadata": {
    "colab": {
     "base_uri": "https://localhost:8080/",
     "height": 35
    },
    "colab_type": "code",
    "executionInfo": {
     "elapsed": 444,
     "status": "ok",
     "timestamp": 1566847566942,
     "user": {
      "displayName": "Adam Eubanks",
      "photoUrl": "https://lh3.googleusercontent.com/a-/AAuE7mDjwE097euDwbWe6DLsA9jrqnIHFFDD2-2g5QsSdA=s64",
      "userId": "14853192264485050012"
     },
     "user_tz": 240
    },
    "id": "TN4oDc9B7P1J",
    "outputId": "1f7d9f47-3641-420c-b592-a69a8fc66efc"
   },
   "outputs": [
    {
     "name": "stdout",
     "output_type": "stream",
     "text": [
      "[[205738.84]]\n"
     ]
    }
   ],
   "source": [
    "test_data = np.array([2003,854,1710,2,1,3,8,2008])\n",
    "print(model.predict(test_data.reshape(1,8), batch_size=1))"
   ]
  },
  {
   "cell_type": "code",
   "execution_count": null,
   "metadata": {},
   "outputs": [],
   "source": []
  }
 ],
 "metadata": {
  "colab": {
   "collapsed_sections": [],
   "name": "HousingPricesNN.ipynb",
   "provenance": [],
   "version": "0.3.2"
  },
  "kernelspec": {
   "display_name": "Python 3",
   "language": "python",
   "name": "python3"
  },
  "language_info": {
   "codemirror_mode": {
    "name": "ipython",
    "version": 3
   },
   "file_extension": ".py",
   "mimetype": "text/x-python",
   "name": "python",
   "nbconvert_exporter": "python",
   "pygments_lexer": "ipython3",
   "version": "3.8.5"
  }
 },
 "nbformat": 4,
 "nbformat_minor": 1
}
